{
 "cells": [
  {
   "attachments": {},
   "cell_type": "markdown",
   "metadata": {},
   "source": [
    "# Building LTV target\n",
    "\n",
    "We can have several LTV models, depending on when we want to apply it. For instance, if we want a model for recently acquired clients, to direct hunting for example, we are bound to registration information or open market information, while a model for farming can use transactions and client's behavior as variables. \n",
    "The same is valid for the target, as we can compute the lifetime value for the client since the beginning of the relationship or from a determined point forward. All these definitions depend on business objectives and use cases of the models.\n",
    "\n",
    "Since this is a study on the subject, we are going to build two views:\n",
    "- Considering all revenue from a client since the beginning, limiting the prediction variables to the registration and first transaction, as for a new costumer.\n",
    "- Considering all revenue generated from one specific point forward, as for a current user.\n",
    "\n",
    "We are also checking for one-and-done cases to evaluate what types of strategies we can apply to increase revenue."
   ]
  },
  {
   "cell_type": "code",
   "execution_count": 1,
   "metadata": {},
   "outputs": [],
   "source": [
    "import pandas as pd"
   ]
  },
  {
   "cell_type": "markdown",
   "metadata": {},
   "source": [
    "# Data"
   ]
  },
  {
   "cell_type": "code",
   "execution_count": 2,
   "metadata": {},
   "outputs": [],
   "source": [
    "orders = pd.read_csv('../data/bronze/olist_orders_dataset.csv')\n",
    "order_items = pd.read_csv('../data/bronze/olist_order_items_dataset.csv')\n",
    "order_payments = pd.read_csv('../data/bronze/olist_order_payments_dataset.csv')"
   ]
  },
  {
   "attachments": {},
   "cell_type": "markdown",
   "metadata": {},
   "source": [
    "# Understanding order payments\n",
    "\n",
    "For LTV, we will consider only orders paid by the costumer. Vouchers and other types os incentive are not considered."
   ]
  },
  {
   "cell_type": "code",
   "execution_count": 3,
   "metadata": {},
   "outputs": [
    {
     "data": {
      "text/html": [
       "<div>\n",
       "<style scoped>\n",
       "    .dataframe tbody tr th:only-of-type {\n",
       "        vertical-align: middle;\n",
       "    }\n",
       "\n",
       "    .dataframe tbody tr th {\n",
       "        vertical-align: top;\n",
       "    }\n",
       "\n",
       "    .dataframe thead th {\n",
       "        text-align: right;\n",
       "    }\n",
       "</style>\n",
       "<table border=\"1\" class=\"dataframe\">\n",
       "  <thead>\n",
       "    <tr style=\"text-align: right;\">\n",
       "      <th></th>\n",
       "      <th>order_id</th>\n",
       "      <th>payment_sequential</th>\n",
       "      <th>payment_type</th>\n",
       "      <th>payment_installments</th>\n",
       "      <th>payment_value</th>\n",
       "    </tr>\n",
       "  </thead>\n",
       "  <tbody>\n",
       "    <tr>\n",
       "      <th>1456</th>\n",
       "      <td>683bf306149bb869980b68d48a1bd6ab</td>\n",
       "      <td>1</td>\n",
       "      <td>credit_card</td>\n",
       "      <td>1</td>\n",
       "      <td>8.58</td>\n",
       "    </tr>\n",
       "    <tr>\n",
       "      <th>2324</th>\n",
       "      <td>e6a66a8350bb88497954d37688ab123e</td>\n",
       "      <td>2</td>\n",
       "      <td>voucher</td>\n",
       "      <td>1</td>\n",
       "      <td>10.51</td>\n",
       "    </tr>\n",
       "    <tr>\n",
       "      <th>2393</th>\n",
       "      <td>8e5148bee82a7e42c5f9ba76161dc51a</td>\n",
       "      <td>1</td>\n",
       "      <td>credit_card</td>\n",
       "      <td>1</td>\n",
       "      <td>0.67</td>\n",
       "    </tr>\n",
       "    <tr>\n",
       "      <th>2414</th>\n",
       "      <td>816ccd9d21435796e8ffa9802b2a782f</td>\n",
       "      <td>1</td>\n",
       "      <td>credit_card</td>\n",
       "      <td>1</td>\n",
       "      <td>5.65</td>\n",
       "    </tr>\n",
       "    <tr>\n",
       "      <th>2497</th>\n",
       "      <td>2cbcb371aee438c59b722a21d83597e0</td>\n",
       "      <td>2</td>\n",
       "      <td>voucher</td>\n",
       "      <td>1</td>\n",
       "      <td>7.80</td>\n",
       "    </tr>\n",
       "    <tr>\n",
       "      <th>...</th>\n",
       "      <td>...</td>\n",
       "      <td>...</td>\n",
       "      <td>...</td>\n",
       "      <td>...</td>\n",
       "      <td>...</td>\n",
       "    </tr>\n",
       "    <tr>\n",
       "      <th>103778</th>\n",
       "      <td>fd86c80924b4be8fb7f58c4ecc680dae</td>\n",
       "      <td>1</td>\n",
       "      <td>credit_card</td>\n",
       "      <td>1</td>\n",
       "      <td>76.10</td>\n",
       "    </tr>\n",
       "    <tr>\n",
       "      <th>103817</th>\n",
       "      <td>6d4616de4341417e17978fe57aec1c46</td>\n",
       "      <td>1</td>\n",
       "      <td>credit_card</td>\n",
       "      <td>1</td>\n",
       "      <td>19.18</td>\n",
       "    </tr>\n",
       "    <tr>\n",
       "      <th>103860</th>\n",
       "      <td>31bc09fdbd701a7a4f9b55b5955b8687</td>\n",
       "      <td>6</td>\n",
       "      <td>voucher</td>\n",
       "      <td>1</td>\n",
       "      <td>77.99</td>\n",
       "    </tr>\n",
       "    <tr>\n",
       "      <th>103869</th>\n",
       "      <td>c9b01bef18eb84888f0fd071b8413b38</td>\n",
       "      <td>1</td>\n",
       "      <td>credit_card</td>\n",
       "      <td>6</td>\n",
       "      <td>238.16</td>\n",
       "    </tr>\n",
       "    <tr>\n",
       "      <th>103874</th>\n",
       "      <td>d41f1036712e18ee525939d08b7a1c98</td>\n",
       "      <td>1</td>\n",
       "      <td>credit_card</td>\n",
       "      <td>1</td>\n",
       "      <td>3.57</td>\n",
       "    </tr>\n",
       "  </tbody>\n",
       "</table>\n",
       "<p>4446 rows × 5 columns</p>\n",
       "</div>"
      ],
      "text/plain": [
       "                                order_id  payment_sequential payment_type  \\\n",
       "1456    683bf306149bb869980b68d48a1bd6ab                   1  credit_card   \n",
       "2324    e6a66a8350bb88497954d37688ab123e                   2      voucher   \n",
       "2393    8e5148bee82a7e42c5f9ba76161dc51a                   1  credit_card   \n",
       "2414    816ccd9d21435796e8ffa9802b2a782f                   1  credit_card   \n",
       "2497    2cbcb371aee438c59b722a21d83597e0                   2      voucher   \n",
       "...                                  ...                 ...          ...   \n",
       "103778  fd86c80924b4be8fb7f58c4ecc680dae                   1  credit_card   \n",
       "103817  6d4616de4341417e17978fe57aec1c46                   1  credit_card   \n",
       "103860  31bc09fdbd701a7a4f9b55b5955b8687                   6      voucher   \n",
       "103869  c9b01bef18eb84888f0fd071b8413b38                   1  credit_card   \n",
       "103874  d41f1036712e18ee525939d08b7a1c98                   1  credit_card   \n",
       "\n",
       "        payment_installments  payment_value  \n",
       "1456                       1           8.58  \n",
       "2324                       1          10.51  \n",
       "2393                       1           0.67  \n",
       "2414                       1           5.65  \n",
       "2497                       1           7.80  \n",
       "...                      ...            ...  \n",
       "103778                     1          76.10  \n",
       "103817                     1          19.18  \n",
       "103860                     1          77.99  \n",
       "103869                     6         238.16  \n",
       "103874                     1           3.57  \n",
       "\n",
       "[4446 rows x 5 columns]"
      ]
     },
     "execution_count": 3,
     "metadata": {},
     "output_type": "execute_result"
    }
   ],
   "source": [
    "order_payments[order_payments['order_id'].duplicated()]"
   ]
  },
  {
   "cell_type": "code",
   "execution_count": 4,
   "metadata": {},
   "outputs": [
    {
     "data": {
      "text/html": [
       "<div>\n",
       "<style scoped>\n",
       "    .dataframe tbody tr th:only-of-type {\n",
       "        vertical-align: middle;\n",
       "    }\n",
       "\n",
       "    .dataframe tbody tr th {\n",
       "        vertical-align: top;\n",
       "    }\n",
       "\n",
       "    .dataframe thead th {\n",
       "        text-align: right;\n",
       "    }\n",
       "</style>\n",
       "<table border=\"1\" class=\"dataframe\">\n",
       "  <thead>\n",
       "    <tr style=\"text-align: right;\">\n",
       "      <th></th>\n",
       "      <th>order_id</th>\n",
       "      <th>payment_sequential</th>\n",
       "      <th>payment_type</th>\n",
       "      <th>payment_installments</th>\n",
       "      <th>payment_value</th>\n",
       "    </tr>\n",
       "  </thead>\n",
       "  <tbody>\n",
       "    <tr>\n",
       "      <th>10326</th>\n",
       "      <td>c9b01bef18eb84888f0fd071b8413b38</td>\n",
       "      <td>2</td>\n",
       "      <td>voucher</td>\n",
       "      <td>1</td>\n",
       "      <td>128.44</td>\n",
       "    </tr>\n",
       "    <tr>\n",
       "      <th>103869</th>\n",
       "      <td>c9b01bef18eb84888f0fd071b8413b38</td>\n",
       "      <td>1</td>\n",
       "      <td>credit_card</td>\n",
       "      <td>6</td>\n",
       "      <td>238.16</td>\n",
       "    </tr>\n",
       "  </tbody>\n",
       "</table>\n",
       "</div>"
      ],
      "text/plain": [
       "                                order_id  payment_sequential payment_type  \\\n",
       "10326   c9b01bef18eb84888f0fd071b8413b38                   2      voucher   \n",
       "103869  c9b01bef18eb84888f0fd071b8413b38                   1  credit_card   \n",
       "\n",
       "        payment_installments  payment_value  \n",
       "10326                      1         128.44  \n",
       "103869                     6         238.16  "
      ]
     },
     "execution_count": 4,
     "metadata": {},
     "output_type": "execute_result"
    }
   ],
   "source": [
    "order_payments[order_payments['order_id']=='c9b01bef18eb84888f0fd071b8413b38']"
   ]
  },
  {
   "cell_type": "code",
   "execution_count": 5,
   "metadata": {},
   "outputs": [
    {
     "data": {
      "text/plain": [
       "payment_type\n",
       "credit_card    76795\n",
       "boleto         19784\n",
       "voucher         5775\n",
       "debit_card      1529\n",
       "not_defined        3\n",
       "Name: count, dtype: int64"
      ]
     },
     "execution_count": 5,
     "metadata": {},
     "output_type": "execute_result"
    }
   ],
   "source": [
    "order_payments['payment_type'].value_counts()"
   ]
  },
  {
   "cell_type": "code",
   "execution_count": 6,
   "metadata": {},
   "outputs": [],
   "source": [
    "# The methods considered valid for our purposes are: credit_card, boleto (Bank slip) and debit_card.\n",
    "valid_methods = ['credit_card', 'boleto', 'debit_card']"
   ]
  },
  {
   "cell_type": "code",
   "execution_count": 7,
   "metadata": {},
   "outputs": [],
   "source": [
    "# since there can be multiple payment method for ear order, now we will filter the valid ones and aggregate their values.\n",
    "valid_order_payments = order_payments[order_payments['payment_type'].isin(valid_methods)].copy()\n",
    "valid_order_payments = valid_order_payments.groupby('order_id').agg({'payment_value':['sum']}).reset_index()\n",
    "valid_order_payments.columns = [x[0] for x in valid_order_payments.columns]"
   ]
  },
  {
   "cell_type": "code",
   "execution_count": 8,
   "metadata": {},
   "outputs": [
    {
     "data": {
      "text/html": [
       "<div>\n",
       "<style scoped>\n",
       "    .dataframe tbody tr th:only-of-type {\n",
       "        vertical-align: middle;\n",
       "    }\n",
       "\n",
       "    .dataframe tbody tr th {\n",
       "        vertical-align: top;\n",
       "    }\n",
       "\n",
       "    .dataframe thead th {\n",
       "        text-align: right;\n",
       "    }\n",
       "</style>\n",
       "<table border=\"1\" class=\"dataframe\">\n",
       "  <thead>\n",
       "    <tr style=\"text-align: right;\">\n",
       "      <th></th>\n",
       "      <th>order_id</th>\n",
       "      <th>payment_value</th>\n",
       "    </tr>\n",
       "  </thead>\n",
       "  <tbody>\n",
       "    <tr>\n",
       "      <th>0</th>\n",
       "      <td>00010242fe8c5a6d1ba2dd792cb16214</td>\n",
       "      <td>72.19</td>\n",
       "    </tr>\n",
       "    <tr>\n",
       "      <th>1</th>\n",
       "      <td>00018f77f2f0320c557190d7a144bdd3</td>\n",
       "      <td>259.83</td>\n",
       "    </tr>\n",
       "    <tr>\n",
       "      <th>2</th>\n",
       "      <td>000229ec398224ef6ca0657da4fc703e</td>\n",
       "      <td>216.87</td>\n",
       "    </tr>\n",
       "    <tr>\n",
       "      <th>3</th>\n",
       "      <td>00024acbcdf0a6daa1e931b038114c75</td>\n",
       "      <td>25.78</td>\n",
       "    </tr>\n",
       "    <tr>\n",
       "      <th>4</th>\n",
       "      <td>00042b26cf59d7ce69dfabb4e55b4fd9</td>\n",
       "      <td>218.04</td>\n",
       "    </tr>\n",
       "    <tr>\n",
       "      <th>...</th>\n",
       "      <td>...</td>\n",
       "      <td>...</td>\n",
       "    </tr>\n",
       "    <tr>\n",
       "      <th>97811</th>\n",
       "      <td>fffc94f6ce00a00581880bf54a75a037</td>\n",
       "      <td>343.40</td>\n",
       "    </tr>\n",
       "    <tr>\n",
       "      <th>97812</th>\n",
       "      <td>fffcd46ef2263f404302a634eb57f7eb</td>\n",
       "      <td>386.53</td>\n",
       "    </tr>\n",
       "    <tr>\n",
       "      <th>97813</th>\n",
       "      <td>fffce4705a9662cd70adb13d4a31832d</td>\n",
       "      <td>116.85</td>\n",
       "    </tr>\n",
       "    <tr>\n",
       "      <th>97814</th>\n",
       "      <td>fffe18544ffabc95dfada21779c9644f</td>\n",
       "      <td>64.71</td>\n",
       "    </tr>\n",
       "    <tr>\n",
       "      <th>97815</th>\n",
       "      <td>fffe41c64501cc87c801fd61db3f6244</td>\n",
       "      <td>55.79</td>\n",
       "    </tr>\n",
       "  </tbody>\n",
       "</table>\n",
       "<p>97816 rows × 2 columns</p>\n",
       "</div>"
      ],
      "text/plain": [
       "                               order_id  payment_value\n",
       "0      00010242fe8c5a6d1ba2dd792cb16214          72.19\n",
       "1      00018f77f2f0320c557190d7a144bdd3         259.83\n",
       "2      000229ec398224ef6ca0657da4fc703e         216.87\n",
       "3      00024acbcdf0a6daa1e931b038114c75          25.78\n",
       "4      00042b26cf59d7ce69dfabb4e55b4fd9         218.04\n",
       "...                                 ...            ...\n",
       "97811  fffc94f6ce00a00581880bf54a75a037         343.40\n",
       "97812  fffcd46ef2263f404302a634eb57f7eb         386.53\n",
       "97813  fffce4705a9662cd70adb13d4a31832d         116.85\n",
       "97814  fffe18544ffabc95dfada21779c9644f          64.71\n",
       "97815  fffe41c64501cc87c801fd61db3f6244          55.79\n",
       "\n",
       "[97816 rows x 2 columns]"
      ]
     },
     "execution_count": 8,
     "metadata": {},
     "output_type": "execute_result"
    }
   ],
   "source": [
    "valid_order_payments"
   ]
  },
  {
   "cell_type": "code",
   "execution_count": 9,
   "metadata": {},
   "outputs": [
    {
     "data": {
      "text/plain": [
       "0"
      ]
     },
     "execution_count": 9,
     "metadata": {},
     "output_type": "execute_result"
    }
   ],
   "source": [
    "valid_order_payments['order_id'].duplicated().sum()"
   ]
  },
  {
   "attachments": {},
   "cell_type": "markdown",
   "metadata": {},
   "source": [
    "# Merging clients and order dates\n",
    "\n",
    "We can use the order_purchse_timestamp from the orders dataset to get costumers_id and order dates.\n",
    "To get customer unique id we need customers dataset"
   ]
  },
  {
   "cell_type": "code",
   "execution_count": 10,
   "metadata": {},
   "outputs": [],
   "source": [
    "customers = pd.read_csv('../data/bronze/olist_customers_dataset.csv')"
   ]
  },
  {
   "cell_type": "code",
   "execution_count": 11,
   "metadata": {},
   "outputs": [
    {
     "data": {
      "text/plain": [
       "0"
      ]
     },
     "execution_count": 11,
     "metadata": {},
     "output_type": "execute_result"
    }
   ],
   "source": [
    "orders['order_id'].duplicated().sum() #  there are no duplicated orders here, as expected."
   ]
  },
  {
   "cell_type": "code",
   "execution_count": 12,
   "metadata": {},
   "outputs": [],
   "source": [
    "orders_filtered = orders.merge(valid_order_payments,on='order_id',how='inner') # we do an inner join since we are interested only in the orders paid with the valid methods.\n",
    "orders_filtered = orders_filtered.merge(customers[['customer_id','customer_unique_id']],on='customer_id',how='inner') # we use inner so we only get traceable clients."
   ]
  },
  {
   "cell_type": "code",
   "execution_count": 13,
   "metadata": {},
   "outputs": [
    {
     "data": {
      "text/plain": [
       "order_status\n",
       "delivered      94979\n",
       "shipped         1079\n",
       "unavailable      599\n",
       "canceled         546\n",
       "invoiced         312\n",
       "processing       294\n",
       "created            5\n",
       "approved           2\n",
       "Name: count, dtype: int64"
      ]
     },
     "execution_count": 13,
     "metadata": {},
     "output_type": "execute_result"
    }
   ],
   "source": [
    "orders_filtered['order_status'].value_counts() # we algo only want fineshed orders, so we now the client actually paid the price."
   ]
  },
  {
   "cell_type": "code",
   "execution_count": 14,
   "metadata": {},
   "outputs": [],
   "source": [
    "valid_status = ['delivered']"
   ]
  },
  {
   "cell_type": "code",
   "execution_count": 15,
   "metadata": {},
   "outputs": [],
   "source": [
    "orders_filtered = orders_filtered[orders_filtered['order_status'].isin(valid_status)].copy()"
   ]
  },
  {
   "attachments": {},
   "cell_type": "markdown",
   "metadata": {},
   "source": [
    "# Build target\n",
    "\n",
    "As mentioned before, we will build the target in two views dependending on how long the relationship with the client is."
   ]
  },
  {
   "cell_type": "code",
   "execution_count": 16,
   "metadata": {},
   "outputs": [],
   "source": [
    "orders_filtered = orders_filtered.sort_values(['customer_unique_id','order_purchase_timestamp'])"
   ]
  },
  {
   "cell_type": "code",
   "execution_count": 17,
   "metadata": {},
   "outputs": [],
   "source": [
    "# we need to number each order from each client so we can filter the first one later. We will also use this number to analyse possible one and done and churn.\n",
    "orders_filtered['client_order_number'] = orders_filtered.sort_values(['customer_unique_id','order_purchase_timestamp']).groupby(['customer_unique_id']).cumcount()+1"
   ]
  },
  {
   "cell_type": "code",
   "execution_count": 18,
   "metadata": {},
   "outputs": [
    {
     "data": {
      "text/plain": [
       "client_order_number\n",
       "1     0.968298\n",
       "2     0.028501\n",
       "3     0.002253\n",
       "4     0.000484\n",
       "5     0.000200\n",
       "6     0.000105\n",
       "7     0.000053\n",
       "8     0.000021\n",
       "9     0.000021\n",
       "10    0.000011\n",
       "11    0.000011\n",
       "12    0.000011\n",
       "13    0.000011\n",
       "14    0.000011\n",
       "15    0.000011\n",
       "Name: proportion, dtype: float64"
      ]
     },
     "execution_count": 18,
     "metadata": {},
     "output_type": "execute_result"
    }
   ],
   "source": [
    "orders_filtered['client_order_number'].value_counts(1) \n",
    "# Seems like 97% of all orders are made by clients that never returns. That means that an one and done model can also be applied to this dataset.\n",
    "# A complete solution would include evaluating each costumer after their first order in terms of one-and-done and them in LTV.\n",
    "# for now, we won't filter these clients out."
   ]
  },
  {
   "cell_type": "markdown",
   "metadata": {},
   "source": [
    "## Time between transactions\n",
    "We neeed to determine a window to consider LTV, so we need to take a look at recency and frequency"
   ]
  },
  {
   "cell_type": "code",
   "execution_count": 19,
   "metadata": {},
   "outputs": [],
   "source": [
    "orders_filtered['order_purchase_timestamp'] = orders_filtered['order_purchase_timestamp'].apply(pd.to_datetime)"
   ]
  },
  {
   "cell_type": "code",
   "execution_count": 20,
   "metadata": {},
   "outputs": [],
   "source": [
    "orders_filtered['time_lst_order'] = orders_filtered.groupby(['customer_unique_id'])['order_purchase_timestamp'].diff(periods=1).dt.days"
   ]
  },
  {
   "cell_type": "code",
   "execution_count": 21,
   "metadata": {},
   "outputs": [],
   "source": [
    "orders_filtered['time_nxt_order'] = orders_filtered.groupby(['customer_unique_id'])['order_purchase_timestamp'].diff(periods=-1).dt.days.abs()"
   ]
  },
  {
   "cell_type": "code",
   "execution_count": 22,
   "metadata": {},
   "outputs": [
    {
     "data": {
      "text/plain": [
       "time_nxt_order\n",
       "1.0      640\n",
       "0.0      261\n",
       "2.0       38\n",
       "7.0       35\n",
       "3.0       33\n",
       "        ... \n",
       "217.0      1\n",
       "220.0      1\n",
       "337.0      1\n",
       "321.0      1\n",
       "322.0      1\n",
       "Name: count, Length: 405, dtype: int64"
      ]
     },
     "execution_count": 22,
     "metadata": {},
     "output_type": "execute_result"
    }
   ],
   "source": [
    "orders_filtered['time_nxt_order'].value_counts()"
   ]
  },
  {
   "cell_type": "code",
   "execution_count": 23,
   "metadata": {},
   "outputs": [
    {
     "data": {
      "text/plain": [
       "time_lst_order\n",
       "0.0      901\n",
       "1.0       38\n",
       "6.0       35\n",
       "2.0       33\n",
       "7.0       30\n",
       "        ... \n",
       "336.0      1\n",
       "320.0      1\n",
       "370.0      1\n",
       "510.0      1\n",
       "321.0      1\n",
       "Name: count, Length: 404, dtype: int64"
      ]
     },
     "execution_count": 23,
     "metadata": {},
     "output_type": "execute_result"
    }
   ],
   "source": [
    "orders_filtered['time_lst_order'].value_counts()"
   ]
  },
  {
   "cell_type": "code",
   "execution_count": 24,
   "metadata": {},
   "outputs": [
    {
     "data": {
      "text/plain": [
       "count    3011.000000\n",
       "mean       78.431086\n",
       "std       106.932103\n",
       "min         0.000000\n",
       "25%         0.000000\n",
       "50%        29.000000\n",
       "75%       121.000000\n",
       "max       608.000000\n",
       "Name: time_lst_order, dtype: float64"
      ]
     },
     "execution_count": 24,
     "metadata": {},
     "output_type": "execute_result"
    }
   ],
   "source": [
    "orders_filtered['time_lst_order'].describe() \n",
    "# Only 3011 repurchases\n",
    "# Of those, 75% will buy again within the next 4 months (121 days) after the last purchase."
   ]
  },
  {
   "attachments": {},
   "cell_type": "markdown",
   "metadata": {},
   "source": [
    "## Clients lifetime"
   ]
  },
  {
   "cell_type": "code",
   "execution_count": 25,
   "metadata": {},
   "outputs": [],
   "source": [
    "lifetime_df = orders_filtered.groupby(['customer_unique_id'])['order_purchase_timestamp'].agg(['min','max']).diff(axis=1).rename(columns={'max':'lifetime'}).reset_index().drop(columns='min')\n",
    "lifetime_df['lifetime'] = lifetime_df['lifetime'].dt.days"
   ]
  },
  {
   "cell_type": "code",
   "execution_count": 26,
   "metadata": {},
   "outputs": [
    {
     "data": {
      "text/plain": [
       "count    91968.000000\n",
       "mean         2.568959\n",
       "std         24.623682\n",
       "min          0.000000\n",
       "25%          0.000000\n",
       "50%          0.000000\n",
       "75%          0.000000\n",
       "max        633.000000\n",
       "Name: lifetime, dtype: float64"
      ]
     },
     "execution_count": 26,
     "metadata": {},
     "output_type": "execute_result"
    }
   ],
   "source": [
    "lifetime_df['lifetime'].describe() # lets filter out one and done cases to see the behavior"
   ]
  },
  {
   "cell_type": "code",
   "execution_count": 27,
   "metadata": {},
   "outputs": [
    {
     "data": {
      "text/plain": [
       "count    1913.000000\n",
       "mean      123.503398\n",
       "std       119.250067\n",
       "min         1.000000\n",
       "25%        27.000000\n",
       "50%        83.000000\n",
       "75%       188.000000\n",
       "max       633.000000\n",
       "Name: lifetime, dtype: float64"
      ]
     },
     "execution_count": 27,
     "metadata": {},
     "output_type": "execute_result"
    }
   ],
   "source": [
    "lifetime_df[lifetime_df['lifetime']>0]['lifetime'].describe() # 75% of clients suvive for around 190 days\n",
    "# combining this with results from before we can see that clients that make a second interaction, do it whithin the next 6 months"
   ]
  },
  {
   "attachments": {},
   "cell_type": "markdown",
   "metadata": {},
   "source": [
    "From the above results we can select a window for LTV of 6 months.\n",
    "And since most clients only make a second buy and not more than that, we will change our views of the problem to:\n",
    "- one and done modelling\n",
    "- LTV considering a window of 6 months from the first purchase"
   ]
  },
  {
   "attachments": {},
   "cell_type": "markdown",
   "metadata": {},
   "source": [
    "## One and Done\n",
    "\n",
    "The first target we are going to build is the one-and-done, which check if a client will do a second purchase.\n",
    "In this case, we will consider a window twice as long as the one for LTV, just so we don't have samples in which a client comes back after too long and is treated as good.\n",
    "These definitions are usually based on business decisions, but for now they seem resonable."
   ]
  },
  {
   "cell_type": "code",
   "execution_count": 28,
   "metadata": {},
   "outputs": [],
   "source": [
    "df_oad = orders_filtered[orders_filtered['client_order_number']==1].copy()"
   ]
  },
  {
   "cell_type": "code",
   "execution_count": 29,
   "metadata": {},
   "outputs": [],
   "source": [
    "mask_oad = (df_oad['time_nxt_order'].isna() ) | (df_oad['time_nxt_order']>180 )"
   ]
  },
  {
   "cell_type": "code",
   "execution_count": 30,
   "metadata": {},
   "outputs": [],
   "source": [
    "df_oad['one_and_done'] = 0"
   ]
  },
  {
   "cell_type": "code",
   "execution_count": 31,
   "metadata": {},
   "outputs": [],
   "source": [
    "df_oad.loc[mask_oad,'one_and_done']=1"
   ]
  },
  {
   "cell_type": "code",
   "execution_count": 32,
   "metadata": {},
   "outputs": [
    {
     "data": {
      "text/html": [
       "<div>\n",
       "<style scoped>\n",
       "    .dataframe tbody tr th:only-of-type {\n",
       "        vertical-align: middle;\n",
       "    }\n",
       "\n",
       "    .dataframe tbody tr th {\n",
       "        vertical-align: top;\n",
       "    }\n",
       "\n",
       "    .dataframe thead th {\n",
       "        text-align: right;\n",
       "    }\n",
       "</style>\n",
       "<table border=\"1\" class=\"dataframe\">\n",
       "  <thead>\n",
       "    <tr style=\"text-align: right;\">\n",
       "      <th></th>\n",
       "      <th>order_id</th>\n",
       "      <th>customer_id</th>\n",
       "      <th>order_status</th>\n",
       "      <th>order_purchase_timestamp</th>\n",
       "      <th>order_approved_at</th>\n",
       "      <th>order_delivered_carrier_date</th>\n",
       "      <th>order_delivered_customer_date</th>\n",
       "      <th>order_estimated_delivery_date</th>\n",
       "      <th>payment_value</th>\n",
       "      <th>customer_unique_id</th>\n",
       "      <th>client_order_number</th>\n",
       "      <th>time_lst_order</th>\n",
       "      <th>time_nxt_order</th>\n",
       "      <th>one_and_done</th>\n",
       "    </tr>\n",
       "  </thead>\n",
       "  <tbody>\n",
       "    <tr>\n",
       "      <th>51965</th>\n",
       "      <td>e22acc9c116caa3f2b7121bbb380d08e</td>\n",
       "      <td>fadbb3709178fc513abc1b2670aa1ad2</td>\n",
       "      <td>delivered</td>\n",
       "      <td>2018-05-10 10:56:27</td>\n",
       "      <td>2018-05-10 11:11:18</td>\n",
       "      <td>2018-05-12 08:18:00</td>\n",
       "      <td>2018-05-16 20:48:37</td>\n",
       "      <td>2018-05-21 00:00:00</td>\n",
       "      <td>141.90</td>\n",
       "      <td>0000366f3b9a7992bf8c76cfdf3221e2</td>\n",
       "      <td>1</td>\n",
       "      <td>NaN</td>\n",
       "      <td>NaN</td>\n",
       "      <td>1</td>\n",
       "    </tr>\n",
       "    <tr>\n",
       "      <th>72720</th>\n",
       "      <td>3594e05a005ac4d06a72673270ef9ec9</td>\n",
       "      <td>4cb282e167ae9234755102258dd52ee8</td>\n",
       "      <td>delivered</td>\n",
       "      <td>2018-05-07 11:11:27</td>\n",
       "      <td>2018-05-07 18:25:44</td>\n",
       "      <td>2018-05-09 12:18:00</td>\n",
       "      <td>2018-05-10 18:02:42</td>\n",
       "      <td>2018-05-15 00:00:00</td>\n",
       "      <td>27.19</td>\n",
       "      <td>0000b849f77a49e4a4ce2b2a4ca5be3f</td>\n",
       "      <td>1</td>\n",
       "      <td>NaN</td>\n",
       "      <td>NaN</td>\n",
       "      <td>1</td>\n",
       "    </tr>\n",
       "    <tr>\n",
       "      <th>26059</th>\n",
       "      <td>b33ec3b699337181488304f362a6b734</td>\n",
       "      <td>9b3932a6253894a02c1df9d19004239f</td>\n",
       "      <td>delivered</td>\n",
       "      <td>2017-03-10 21:05:03</td>\n",
       "      <td>2017-03-10 21:05:03</td>\n",
       "      <td>2017-03-13 12:58:30</td>\n",
       "      <td>2017-04-05 14:38:47</td>\n",
       "      <td>2017-04-07 00:00:00</td>\n",
       "      <td>86.22</td>\n",
       "      <td>0000f46a3911fa3c0805444483337064</td>\n",
       "      <td>1</td>\n",
       "      <td>NaN</td>\n",
       "      <td>NaN</td>\n",
       "      <td>1</td>\n",
       "    </tr>\n",
       "    <tr>\n",
       "      <th>96892</th>\n",
       "      <td>41272756ecddd9a9ed0180413cc22fb6</td>\n",
       "      <td>914991f0c02ef0843c0e7010c819d642</td>\n",
       "      <td>delivered</td>\n",
       "      <td>2017-10-12 20:29:41</td>\n",
       "      <td>2017-10-12 20:49:17</td>\n",
       "      <td>2017-10-13 20:08:19</td>\n",
       "      <td>2017-11-01 21:23:05</td>\n",
       "      <td>2017-11-13 00:00:00</td>\n",
       "      <td>43.62</td>\n",
       "      <td>0000f6ccb0745a6a4b88665a16c9f078</td>\n",
       "      <td>1</td>\n",
       "      <td>NaN</td>\n",
       "      <td>NaN</td>\n",
       "      <td>1</td>\n",
       "    </tr>\n",
       "    <tr>\n",
       "      <th>40914</th>\n",
       "      <td>d957021f1127559cd947b62533f484f7</td>\n",
       "      <td>47227568b10f5f58a524a75507e6992c</td>\n",
       "      <td>delivered</td>\n",
       "      <td>2017-11-14 19:45:42</td>\n",
       "      <td>2017-11-14 20:06:52</td>\n",
       "      <td>2017-11-16 19:52:10</td>\n",
       "      <td>2017-11-27 23:08:56</td>\n",
       "      <td>2017-12-05 00:00:00</td>\n",
       "      <td>196.89</td>\n",
       "      <td>0004aac84e0df4da2b147fca70cf8255</td>\n",
       "      <td>1</td>\n",
       "      <td>NaN</td>\n",
       "      <td>NaN</td>\n",
       "      <td>1</td>\n",
       "    </tr>\n",
       "    <tr>\n",
       "      <th>...</th>\n",
       "      <td>...</td>\n",
       "      <td>...</td>\n",
       "      <td>...</td>\n",
       "      <td>...</td>\n",
       "      <td>...</td>\n",
       "      <td>...</td>\n",
       "      <td>...</td>\n",
       "      <td>...</td>\n",
       "      <td>...</td>\n",
       "      <td>...</td>\n",
       "      <td>...</td>\n",
       "      <td>...</td>\n",
       "      <td>...</td>\n",
       "      <td>...</td>\n",
       "    </tr>\n",
       "    <tr>\n",
       "      <th>85626</th>\n",
       "      <td>725cf8e9c24e679a8a5a32cb92c9ce1e</td>\n",
       "      <td>74be082247cd677a147d83ee670e9d53</td>\n",
       "      <td>delivered</td>\n",
       "      <td>2017-06-08 21:00:36</td>\n",
       "      <td>2017-06-08 21:15:16</td>\n",
       "      <td>2017-06-23 13:03:27</td>\n",
       "      <td>2017-07-06 09:22:00</td>\n",
       "      <td>2017-08-02 00:00:00</td>\n",
       "      <td>2067.42</td>\n",
       "      <td>fffcf5a5ff07b0908bd4e2dbc735a684</td>\n",
       "      <td>1</td>\n",
       "      <td>NaN</td>\n",
       "      <td>NaN</td>\n",
       "      <td>1</td>\n",
       "    </tr>\n",
       "    <tr>\n",
       "      <th>20256</th>\n",
       "      <td>c71b9252fd7b3b263aaa4cb09319a323</td>\n",
       "      <td>0ecf8e0a08148af0bf313184f167670a</td>\n",
       "      <td>delivered</td>\n",
       "      <td>2017-12-10 20:07:56</td>\n",
       "      <td>2017-12-10 20:16:20</td>\n",
       "      <td>2017-12-21 16:27:01</td>\n",
       "      <td>2018-01-09 22:28:20</td>\n",
       "      <td>2018-01-12 00:00:00</td>\n",
       "      <td>84.58</td>\n",
       "      <td>fffea47cd6d3cc0a88bd621562a9d061</td>\n",
       "      <td>1</td>\n",
       "      <td>NaN</td>\n",
       "      <td>NaN</td>\n",
       "      <td>1</td>\n",
       "    </tr>\n",
       "    <tr>\n",
       "      <th>43252</th>\n",
       "      <td>fdc45e6c7555e6cb3cc0daca2557dbe1</td>\n",
       "      <td>27f584b0f1dc4e610065c240f68b6be0</td>\n",
       "      <td>delivered</td>\n",
       "      <td>2017-02-07 15:49:16</td>\n",
       "      <td>2017-02-07 16:02:44</td>\n",
       "      <td>2017-02-08 10:04:37</td>\n",
       "      <td>2017-02-22 12:45:04</td>\n",
       "      <td>2017-03-24 00:00:00</td>\n",
       "      <td>112.46</td>\n",
       "      <td>ffff371b4d645b6ecea244b27531430a</td>\n",
       "      <td>1</td>\n",
       "      <td>NaN</td>\n",
       "      <td>NaN</td>\n",
       "      <td>1</td>\n",
       "    </tr>\n",
       "    <tr>\n",
       "      <th>95287</th>\n",
       "      <td>94d3ee0bc2a0af9d4fa47a4d63616e8d</td>\n",
       "      <td>832a3b0254347d409512ae92eaf154a6</td>\n",
       "      <td>delivered</td>\n",
       "      <td>2018-05-02 15:17:41</td>\n",
       "      <td>2018-05-02 15:58:47</td>\n",
       "      <td>2018-05-03 16:45:00</td>\n",
       "      <td>2018-05-14 11:54:26</td>\n",
       "      <td>2018-05-28 00:00:00</td>\n",
       "      <td>133.69</td>\n",
       "      <td>ffff5962728ec6157033ef9805bacc48</td>\n",
       "      <td>1</td>\n",
       "      <td>NaN</td>\n",
       "      <td>NaN</td>\n",
       "      <td>1</td>\n",
       "    </tr>\n",
       "    <tr>\n",
       "      <th>68911</th>\n",
       "      <td>f79a35da168301ae56922475da21117b</td>\n",
       "      <td>70bc4d9cf2bbeea3f7b09798370f5884</td>\n",
       "      <td>delivered</td>\n",
       "      <td>2017-05-02 20:18:45</td>\n",
       "      <td>2017-05-03 15:15:13</td>\n",
       "      <td>2017-05-04 12:05:22</td>\n",
       "      <td>2017-05-10 09:33:48</td>\n",
       "      <td>2017-05-26 00:00:00</td>\n",
       "      <td>71.56</td>\n",
       "      <td>ffffd2657e2aad2907e67c3e9daecbeb</td>\n",
       "      <td>1</td>\n",
       "      <td>NaN</td>\n",
       "      <td>NaN</td>\n",
       "      <td>1</td>\n",
       "    </tr>\n",
       "  </tbody>\n",
       "</table>\n",
       "<p>91968 rows × 14 columns</p>\n",
       "</div>"
      ],
      "text/plain": [
       "                               order_id                       customer_id  \\\n",
       "51965  e22acc9c116caa3f2b7121bbb380d08e  fadbb3709178fc513abc1b2670aa1ad2   \n",
       "72720  3594e05a005ac4d06a72673270ef9ec9  4cb282e167ae9234755102258dd52ee8   \n",
       "26059  b33ec3b699337181488304f362a6b734  9b3932a6253894a02c1df9d19004239f   \n",
       "96892  41272756ecddd9a9ed0180413cc22fb6  914991f0c02ef0843c0e7010c819d642   \n",
       "40914  d957021f1127559cd947b62533f484f7  47227568b10f5f58a524a75507e6992c   \n",
       "...                                 ...                               ...   \n",
       "85626  725cf8e9c24e679a8a5a32cb92c9ce1e  74be082247cd677a147d83ee670e9d53   \n",
       "20256  c71b9252fd7b3b263aaa4cb09319a323  0ecf8e0a08148af0bf313184f167670a   \n",
       "43252  fdc45e6c7555e6cb3cc0daca2557dbe1  27f584b0f1dc4e610065c240f68b6be0   \n",
       "95287  94d3ee0bc2a0af9d4fa47a4d63616e8d  832a3b0254347d409512ae92eaf154a6   \n",
       "68911  f79a35da168301ae56922475da21117b  70bc4d9cf2bbeea3f7b09798370f5884   \n",
       "\n",
       "      order_status order_purchase_timestamp    order_approved_at  \\\n",
       "51965    delivered      2018-05-10 10:56:27  2018-05-10 11:11:18   \n",
       "72720    delivered      2018-05-07 11:11:27  2018-05-07 18:25:44   \n",
       "26059    delivered      2017-03-10 21:05:03  2017-03-10 21:05:03   \n",
       "96892    delivered      2017-10-12 20:29:41  2017-10-12 20:49:17   \n",
       "40914    delivered      2017-11-14 19:45:42  2017-11-14 20:06:52   \n",
       "...            ...                      ...                  ...   \n",
       "85626    delivered      2017-06-08 21:00:36  2017-06-08 21:15:16   \n",
       "20256    delivered      2017-12-10 20:07:56  2017-12-10 20:16:20   \n",
       "43252    delivered      2017-02-07 15:49:16  2017-02-07 16:02:44   \n",
       "95287    delivered      2018-05-02 15:17:41  2018-05-02 15:58:47   \n",
       "68911    delivered      2017-05-02 20:18:45  2017-05-03 15:15:13   \n",
       "\n",
       "      order_delivered_carrier_date order_delivered_customer_date  \\\n",
       "51965          2018-05-12 08:18:00           2018-05-16 20:48:37   \n",
       "72720          2018-05-09 12:18:00           2018-05-10 18:02:42   \n",
       "26059          2017-03-13 12:58:30           2017-04-05 14:38:47   \n",
       "96892          2017-10-13 20:08:19           2017-11-01 21:23:05   \n",
       "40914          2017-11-16 19:52:10           2017-11-27 23:08:56   \n",
       "...                            ...                           ...   \n",
       "85626          2017-06-23 13:03:27           2017-07-06 09:22:00   \n",
       "20256          2017-12-21 16:27:01           2018-01-09 22:28:20   \n",
       "43252          2017-02-08 10:04:37           2017-02-22 12:45:04   \n",
       "95287          2018-05-03 16:45:00           2018-05-14 11:54:26   \n",
       "68911          2017-05-04 12:05:22           2017-05-10 09:33:48   \n",
       "\n",
       "      order_estimated_delivery_date  payment_value  \\\n",
       "51965           2018-05-21 00:00:00         141.90   \n",
       "72720           2018-05-15 00:00:00          27.19   \n",
       "26059           2017-04-07 00:00:00          86.22   \n",
       "96892           2017-11-13 00:00:00          43.62   \n",
       "40914           2017-12-05 00:00:00         196.89   \n",
       "...                             ...            ...   \n",
       "85626           2017-08-02 00:00:00        2067.42   \n",
       "20256           2018-01-12 00:00:00          84.58   \n",
       "43252           2017-03-24 00:00:00         112.46   \n",
       "95287           2018-05-28 00:00:00         133.69   \n",
       "68911           2017-05-26 00:00:00          71.56   \n",
       "\n",
       "                     customer_unique_id  client_order_number  time_lst_order  \\\n",
       "51965  0000366f3b9a7992bf8c76cfdf3221e2                    1             NaN   \n",
       "72720  0000b849f77a49e4a4ce2b2a4ca5be3f                    1             NaN   \n",
       "26059  0000f46a3911fa3c0805444483337064                    1             NaN   \n",
       "96892  0000f6ccb0745a6a4b88665a16c9f078                    1             NaN   \n",
       "40914  0004aac84e0df4da2b147fca70cf8255                    1             NaN   \n",
       "...                                 ...                  ...             ...   \n",
       "85626  fffcf5a5ff07b0908bd4e2dbc735a684                    1             NaN   \n",
       "20256  fffea47cd6d3cc0a88bd621562a9d061                    1             NaN   \n",
       "43252  ffff371b4d645b6ecea244b27531430a                    1             NaN   \n",
       "95287  ffff5962728ec6157033ef9805bacc48                    1             NaN   \n",
       "68911  ffffd2657e2aad2907e67c3e9daecbeb                    1             NaN   \n",
       "\n",
       "       time_nxt_order  one_and_done  \n",
       "51965             NaN             1  \n",
       "72720             NaN             1  \n",
       "26059             NaN             1  \n",
       "96892             NaN             1  \n",
       "40914             NaN             1  \n",
       "...               ...           ...  \n",
       "85626             NaN             1  \n",
       "20256             NaN             1  \n",
       "43252             NaN             1  \n",
       "95287             NaN             1  \n",
       "68911             NaN             1  \n",
       "\n",
       "[91968 rows x 14 columns]"
      ]
     },
     "execution_count": 32,
     "metadata": {},
     "output_type": "execute_result"
    }
   ],
   "source": [
    "df_oad"
   ]
  },
  {
   "cell_type": "code",
   "execution_count": 33,
   "metadata": {},
   "outputs": [
    {
     "data": {
      "text/plain": [
       "one_and_done\n",
       "1    0.975611\n",
       "0    0.024389\n",
       "Name: proportion, dtype: float64"
      ]
     },
     "execution_count": 33,
     "metadata": {},
     "output_type": "execute_result"
    }
   ],
   "source": [
    "df_oad['one_and_done'].value_counts(1) # only 2.4% of all clients are not one and done"
   ]
  },
  {
   "attachments": {},
   "cell_type": "markdown",
   "metadata": {},
   "source": [
    "# LTV\n"
   ]
  },
  {
   "cell_type": "code",
   "execution_count": 45,
   "metadata": {},
   "outputs": [],
   "source": [
    "def get_ltv(user, time_var='order_purchase_timestamp',value_var='payment_value',period=6):\n",
    "    ref =  user[time_var].min()\n",
    "    ref_max = ref + pd.DateOffset(months=period)\n",
    "    date_filter = (user[time_var]>ref) & (user[time_var]<=ref_max) \n",
    "    ltv = user[date_filter][value_var].sum()\n",
    "    return ltv"
   ]
  },
  {
   "cell_type": "code",
   "execution_count": 49,
   "metadata": {},
   "outputs": [],
   "source": [
    "df_ltv = orders_filtered.groupby('customer_unique_id').apply(get_ltv).to_frame().reset_index(drop=False).rename(columns = {0:'LTV'})"
   ]
  },
  {
   "cell_type": "code",
   "execution_count": 58,
   "metadata": {},
   "outputs": [
    {
     "data": {
      "text/html": [
       "<div>\n",
       "<style scoped>\n",
       "    .dataframe tbody tr th:only-of-type {\n",
       "        vertical-align: middle;\n",
       "    }\n",
       "\n",
       "    .dataframe tbody tr th {\n",
       "        vertical-align: top;\n",
       "    }\n",
       "\n",
       "    .dataframe thead th {\n",
       "        text-align: right;\n",
       "    }\n",
       "</style>\n",
       "<table border=\"1\" class=\"dataframe\">\n",
       "  <thead>\n",
       "    <tr style=\"text-align: right;\">\n",
       "      <th></th>\n",
       "      <th>customer_unique_id</th>\n",
       "      <th>LTV</th>\n",
       "    </tr>\n",
       "  </thead>\n",
       "  <tbody>\n",
       "    <tr>\n",
       "      <th>74837</th>\n",
       "      <td>d02cbb85434c84acabb8e81bbf064d3e</td>\n",
       "      <td>0.33</td>\n",
       "    </tr>\n",
       "    <tr>\n",
       "      <th>39653</th>\n",
       "      <td>6e1550b8966f327f29bc06b18972dbec</td>\n",
       "      <td>0.52</td>\n",
       "    </tr>\n",
       "    <tr>\n",
       "      <th>10523</th>\n",
       "      <td>1d2435aa3b858d45c707c9fc25e18779</td>\n",
       "      <td>1.43</td>\n",
       "    </tr>\n",
       "    <tr>\n",
       "      <th>30930</th>\n",
       "      <td>55fbb64f60861980e74c4f136f304297</td>\n",
       "      <td>1.97</td>\n",
       "    </tr>\n",
       "    <tr>\n",
       "      <th>15272</th>\n",
       "      <td>2a7f837de6a1999e457b8e3c5619156f</td>\n",
       "      <td>2.14</td>\n",
       "    </tr>\n",
       "    <tr>\n",
       "      <th>...</th>\n",
       "      <td>...</td>\n",
       "      <td>...</td>\n",
       "    </tr>\n",
       "    <tr>\n",
       "      <th>431</th>\n",
       "      <td>012a218df8995d3ec3bb221828360c86</td>\n",
       "      <td>1435.97</td>\n",
       "    </tr>\n",
       "    <tr>\n",
       "      <th>48445</th>\n",
       "      <td>86df00dc5fd68f4dd5d5945ca19f3ed6</td>\n",
       "      <td>1535.88</td>\n",
       "    </tr>\n",
       "    <tr>\n",
       "      <th>57850</th>\n",
       "      <td>a1044dd75b74fbc485b040575a14acf0</td>\n",
       "      <td>1650.18</td>\n",
       "    </tr>\n",
       "    <tr>\n",
       "      <th>78435</th>\n",
       "      <td>da122df9eeddfedc1dc1f5349a1a690c</td>\n",
       "      <td>2621.29</td>\n",
       "    </tr>\n",
       "    <tr>\n",
       "      <th>72010</th>\n",
       "      <td>c8460e4251689ba205045f3ea17884a1</td>\n",
       "      <td>3453.27</td>\n",
       "    </tr>\n",
       "  </tbody>\n",
       "</table>\n",
       "<p>2018 rows × 2 columns</p>\n",
       "</div>"
      ],
      "text/plain": [
       "                     customer_unique_id      LTV\n",
       "74837  d02cbb85434c84acabb8e81bbf064d3e     0.33\n",
       "39653  6e1550b8966f327f29bc06b18972dbec     0.52\n",
       "10523  1d2435aa3b858d45c707c9fc25e18779     1.43\n",
       "30930  55fbb64f60861980e74c4f136f304297     1.97\n",
       "15272  2a7f837de6a1999e457b8e3c5619156f     2.14\n",
       "...                                 ...      ...\n",
       "431    012a218df8995d3ec3bb221828360c86  1435.97\n",
       "48445  86df00dc5fd68f4dd5d5945ca19f3ed6  1535.88\n",
       "57850  a1044dd75b74fbc485b040575a14acf0  1650.18\n",
       "78435  da122df9eeddfedc1dc1f5349a1a690c  2621.29\n",
       "72010  c8460e4251689ba205045f3ea17884a1  3453.27\n",
       "\n",
       "[2018 rows x 2 columns]"
      ]
     },
     "execution_count": 58,
     "metadata": {},
     "output_type": "execute_result"
    }
   ],
   "source": [
    "df_ltv[df_ltv['LTV']>0].sort_values('LTV')"
   ]
  },
  {
   "cell_type": "markdown",
   "metadata": {},
   "source": [
    "### Check values"
   ]
  },
  {
   "cell_type": "code",
   "execution_count": 61,
   "metadata": {},
   "outputs": [
    {
     "data": {
      "text/html": [
       "<div>\n",
       "<style scoped>\n",
       "    .dataframe tbody tr th:only-of-type {\n",
       "        vertical-align: middle;\n",
       "    }\n",
       "\n",
       "    .dataframe tbody tr th {\n",
       "        vertical-align: top;\n",
       "    }\n",
       "\n",
       "    .dataframe thead th {\n",
       "        text-align: right;\n",
       "    }\n",
       "</style>\n",
       "<table border=\"1\" class=\"dataframe\">\n",
       "  <thead>\n",
       "    <tr style=\"text-align: right;\">\n",
       "      <th></th>\n",
       "      <th>customer_unique_id</th>\n",
       "      <th>LTV</th>\n",
       "    </tr>\n",
       "  </thead>\n",
       "  <tbody>\n",
       "    <tr>\n",
       "      <th>412</th>\n",
       "      <td>011b4adcd54683b480c4d841250a987f</td>\n",
       "      <td>149.88</td>\n",
       "    </tr>\n",
       "    <tr>\n",
       "      <th>72010</th>\n",
       "      <td>c8460e4251689ba205045f3ea17884a1</td>\n",
       "      <td>3453.27</td>\n",
       "    </tr>\n",
       "  </tbody>\n",
       "</table>\n",
       "</div>"
      ],
      "text/plain": [
       "                     customer_unique_id      LTV\n",
       "412    011b4adcd54683b480c4d841250a987f   149.88\n",
       "72010  c8460e4251689ba205045f3ea17884a1  3453.27"
      ]
     },
     "execution_count": 61,
     "metadata": {},
     "output_type": "execute_result"
    }
   ],
   "source": [
    "df_ltv[df_ltv['customer_unique_id'].isin(['011b4adcd54683b480c4d841250a987f','c8460e4251689ba205045f3ea17884a1'])].sort_values('customer_unique_id')"
   ]
  },
  {
   "cell_type": "code",
   "execution_count": 62,
   "metadata": {},
   "outputs": [
    {
     "data": {
      "text/html": [
       "<div>\n",
       "<style scoped>\n",
       "    .dataframe tbody tr th:only-of-type {\n",
       "        vertical-align: middle;\n",
       "    }\n",
       "\n",
       "    .dataframe tbody tr th {\n",
       "        vertical-align: top;\n",
       "    }\n",
       "\n",
       "    .dataframe thead th {\n",
       "        text-align: right;\n",
       "    }\n",
       "</style>\n",
       "<table border=\"1\" class=\"dataframe\">\n",
       "  <thead>\n",
       "    <tr style=\"text-align: right;\">\n",
       "      <th></th>\n",
       "      <th>order_id</th>\n",
       "      <th>customer_id</th>\n",
       "      <th>order_status</th>\n",
       "      <th>order_purchase_timestamp</th>\n",
       "      <th>order_approved_at</th>\n",
       "      <th>order_delivered_carrier_date</th>\n",
       "      <th>order_delivered_customer_date</th>\n",
       "      <th>order_estimated_delivery_date</th>\n",
       "      <th>payment_value</th>\n",
       "      <th>customer_unique_id</th>\n",
       "      <th>client_order_number</th>\n",
       "      <th>time_lst_order</th>\n",
       "      <th>time_nxt_order</th>\n",
       "    </tr>\n",
       "  </thead>\n",
       "  <tbody>\n",
       "    <tr>\n",
       "      <th>23149</th>\n",
       "      <td>f05a68aaa0d8f89e758c7134d53fa22a</td>\n",
       "      <td>7e16c78f08de9b2ec5b9eff657934019</td>\n",
       "      <td>delivered</td>\n",
       "      <td>2017-08-22 12:51:29</td>\n",
       "      <td>2017-08-22 13:08:00</td>\n",
       "      <td>2017-08-23 18:53:21</td>\n",
       "      <td>2017-09-04 20:54:01</td>\n",
       "      <td>2017-09-22 00:00:00</td>\n",
       "      <td>86.42</td>\n",
       "      <td>011b4adcd54683b480c4d841250a987f</td>\n",
       "      <td>1</td>\n",
       "      <td>NaN</td>\n",
       "      <td>177.0</td>\n",
       "    </tr>\n",
       "    <tr>\n",
       "      <th>12289</th>\n",
       "      <td>93b35affb86435b71ca01a6dd1eab2b1</td>\n",
       "      <td>3db635076c27c1d6a8618bc5a6e70ad2</td>\n",
       "      <td>delivered</td>\n",
       "      <td>2018-02-15 11:40:57</td>\n",
       "      <td>2018-02-15 12:40:28</td>\n",
       "      <td>2018-02-16 00:07:53</td>\n",
       "      <td>2018-02-27 19:23:00</td>\n",
       "      <td>2018-03-13 00:00:00</td>\n",
       "      <td>149.88</td>\n",
       "      <td>011b4adcd54683b480c4d841250a987f</td>\n",
       "      <td>2</td>\n",
       "      <td>176.0</td>\n",
       "      <td>NaN</td>\n",
       "    </tr>\n",
       "    <tr>\n",
       "      <th>36526</th>\n",
       "      <td>cb1f3a44e8b8527e16913306a4d3de2f</td>\n",
       "      <td>dbe9495069f4ddb6875dfc83462d616f</td>\n",
       "      <td>delivered</td>\n",
       "      <td>2018-08-07 09:03:02</td>\n",
       "      <td>2018-08-08 09:05:09</td>\n",
       "      <td>2018-08-08 15:01:00</td>\n",
       "      <td>2018-08-15 19:28:29</td>\n",
       "      <td>2018-08-24 00:00:00</td>\n",
       "      <td>1202.64</td>\n",
       "      <td>c8460e4251689ba205045f3ea17884a1</td>\n",
       "      <td>1</td>\n",
       "      <td>NaN</td>\n",
       "      <td>1.0</td>\n",
       "    </tr>\n",
       "    <tr>\n",
       "      <th>72387</th>\n",
       "      <td>3e073b27114fe955e184db124d34a566</td>\n",
       "      <td>6ad78e330d6e0f3dfc471115f17371ea</td>\n",
       "      <td>delivered</td>\n",
       "      <td>2018-08-07 16:35:35</td>\n",
       "      <td>2018-08-08 14:10:16</td>\n",
       "      <td>2018-08-13 15:35:00</td>\n",
       "      <td>2018-08-21 17:18:55</td>\n",
       "      <td>2018-09-19 00:00:00</td>\n",
       "      <td>1047.99</td>\n",
       "      <td>c8460e4251689ba205045f3ea17884a1</td>\n",
       "      <td>2</td>\n",
       "      <td>0.0</td>\n",
       "      <td>1.0</td>\n",
       "    </tr>\n",
       "    <tr>\n",
       "      <th>69004</th>\n",
       "      <td>8e8f8ef29c78c7b9c98cac70dd331ce2</td>\n",
       "      <td>9e478f18132211e1d6cf2637d12cc559</td>\n",
       "      <td>delivered</td>\n",
       "      <td>2018-08-08 14:24:24</td>\n",
       "      <td>2018-08-09 08:50:25</td>\n",
       "      <td>2018-08-14 18:00:00</td>\n",
       "      <td>2018-08-21 15:32:26</td>\n",
       "      <td>2018-08-27 00:00:00</td>\n",
       "      <td>1202.64</td>\n",
       "      <td>c8460e4251689ba205045f3ea17884a1</td>\n",
       "      <td>3</td>\n",
       "      <td>0.0</td>\n",
       "      <td>1.0</td>\n",
       "    </tr>\n",
       "    <tr>\n",
       "      <th>42985</th>\n",
       "      <td>03aba68b07658f28f29612641f08d4ba</td>\n",
       "      <td>a7ab31829dc9a10f37e82b1e1afd26b6</td>\n",
       "      <td>delivered</td>\n",
       "      <td>2018-08-08 14:27:15</td>\n",
       "      <td>2018-08-09 08:50:17</td>\n",
       "      <td>2018-08-14 18:00:00</td>\n",
       "      <td>2018-08-21 15:33:32</td>\n",
       "      <td>2018-08-27 00:00:00</td>\n",
       "      <td>1202.64</td>\n",
       "      <td>c8460e4251689ba205045f3ea17884a1</td>\n",
       "      <td>4</td>\n",
       "      <td>0.0</td>\n",
       "      <td>NaN</td>\n",
       "    </tr>\n",
       "  </tbody>\n",
       "</table>\n",
       "</div>"
      ],
      "text/plain": [
       "                               order_id                       customer_id  \\\n",
       "23149  f05a68aaa0d8f89e758c7134d53fa22a  7e16c78f08de9b2ec5b9eff657934019   \n",
       "12289  93b35affb86435b71ca01a6dd1eab2b1  3db635076c27c1d6a8618bc5a6e70ad2   \n",
       "36526  cb1f3a44e8b8527e16913306a4d3de2f  dbe9495069f4ddb6875dfc83462d616f   \n",
       "72387  3e073b27114fe955e184db124d34a566  6ad78e330d6e0f3dfc471115f17371ea   \n",
       "69004  8e8f8ef29c78c7b9c98cac70dd331ce2  9e478f18132211e1d6cf2637d12cc559   \n",
       "42985  03aba68b07658f28f29612641f08d4ba  a7ab31829dc9a10f37e82b1e1afd26b6   \n",
       "\n",
       "      order_status order_purchase_timestamp    order_approved_at  \\\n",
       "23149    delivered      2017-08-22 12:51:29  2017-08-22 13:08:00   \n",
       "12289    delivered      2018-02-15 11:40:57  2018-02-15 12:40:28   \n",
       "36526    delivered      2018-08-07 09:03:02  2018-08-08 09:05:09   \n",
       "72387    delivered      2018-08-07 16:35:35  2018-08-08 14:10:16   \n",
       "69004    delivered      2018-08-08 14:24:24  2018-08-09 08:50:25   \n",
       "42985    delivered      2018-08-08 14:27:15  2018-08-09 08:50:17   \n",
       "\n",
       "      order_delivered_carrier_date order_delivered_customer_date  \\\n",
       "23149          2017-08-23 18:53:21           2017-09-04 20:54:01   \n",
       "12289          2018-02-16 00:07:53           2018-02-27 19:23:00   \n",
       "36526          2018-08-08 15:01:00           2018-08-15 19:28:29   \n",
       "72387          2018-08-13 15:35:00           2018-08-21 17:18:55   \n",
       "69004          2018-08-14 18:00:00           2018-08-21 15:32:26   \n",
       "42985          2018-08-14 18:00:00           2018-08-21 15:33:32   \n",
       "\n",
       "      order_estimated_delivery_date  payment_value  \\\n",
       "23149           2017-09-22 00:00:00          86.42   \n",
       "12289           2018-03-13 00:00:00         149.88   \n",
       "36526           2018-08-24 00:00:00        1202.64   \n",
       "72387           2018-09-19 00:00:00        1047.99   \n",
       "69004           2018-08-27 00:00:00        1202.64   \n",
       "42985           2018-08-27 00:00:00        1202.64   \n",
       "\n",
       "                     customer_unique_id  client_order_number  time_lst_order  \\\n",
       "23149  011b4adcd54683b480c4d841250a987f                    1             NaN   \n",
       "12289  011b4adcd54683b480c4d841250a987f                    2           176.0   \n",
       "36526  c8460e4251689ba205045f3ea17884a1                    1             NaN   \n",
       "72387  c8460e4251689ba205045f3ea17884a1                    2             0.0   \n",
       "69004  c8460e4251689ba205045f3ea17884a1                    3             0.0   \n",
       "42985  c8460e4251689ba205045f3ea17884a1                    4             0.0   \n",
       "\n",
       "       time_nxt_order  \n",
       "23149           177.0  \n",
       "12289             NaN  \n",
       "36526             1.0  \n",
       "72387             1.0  \n",
       "69004             1.0  \n",
       "42985             NaN  "
      ]
     },
     "execution_count": 62,
     "metadata": {},
     "output_type": "execute_result"
    }
   ],
   "source": [
    "orders_filtered[orders_filtered['customer_unique_id'].isin(['011b4adcd54683b480c4d841250a987f','c8460e4251689ba205045f3ea17884a1'])].sort_values('customer_unique_id')"
   ]
  },
  {
   "cell_type": "code",
   "execution_count": null,
   "metadata": {},
   "outputs": [],
   "source": [
    "# the values are correct, but we can see that there are clients that made several purchases in a very short period and never came back. \n",
    "# It will be a business decision whether this behavior is good or bad, but since we have few samples, we will keep them."
   ]
  }
 ],
 "metadata": {
  "kernelspec": {
   "display_name": ".venv",
   "language": "python",
   "name": "python3"
  },
  "language_info": {
   "codemirror_mode": {
    "name": "ipython",
    "version": 3
   },
   "file_extension": ".py",
   "mimetype": "text/x-python",
   "name": "python",
   "nbconvert_exporter": "python",
   "pygments_lexer": "ipython3",
   "version": "3.8.16"
  },
  "orig_nbformat": 4
 },
 "nbformat": 4,
 "nbformat_minor": 2
}
